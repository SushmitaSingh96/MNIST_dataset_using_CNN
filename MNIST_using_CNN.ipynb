{
  "nbformat": 4,
  "nbformat_minor": 0,
  "metadata": {
    "colab": {
      "provenance": [],
      "authorship_tag": "ABX9TyPB13s8dpdcmFKW5Q4vMEDd",
      "include_colab_link": true
    },
    "kernelspec": {
      "name": "python3",
      "display_name": "Python 3"
    },
    "language_info": {
      "name": "python"
    },
    "widgets": {
      "application/vnd.jupyter.widget-state+json": {
        "95698f7878014239a8db962557fc0a53": {
          "model_module": "@jupyter-widgets/controls",
          "model_name": "HBoxModel",
          "model_module_version": "1.5.0",
          "state": {
            "_dom_classes": [],
            "_model_module": "@jupyter-widgets/controls",
            "_model_module_version": "1.5.0",
            "_model_name": "HBoxModel",
            "_view_count": null,
            "_view_module": "@jupyter-widgets/controls",
            "_view_module_version": "1.5.0",
            "_view_name": "HBoxView",
            "box_style": "",
            "children": [
              "IPY_MODEL_87acb336f96b46028bccfd3694445bc2",
              "IPY_MODEL_c32e427cbeb94faca31e7645b7eb9c5a",
              "IPY_MODEL_d3b33ed3dfc543d29019d183bc892b08"
            ],
            "layout": "IPY_MODEL_d0554d36576a4879854157456671a4b2"
          }
        },
        "87acb336f96b46028bccfd3694445bc2": {
          "model_module": "@jupyter-widgets/controls",
          "model_name": "HTMLModel",
          "model_module_version": "1.5.0",
          "state": {
            "_dom_classes": [],
            "_model_module": "@jupyter-widgets/controls",
            "_model_module_version": "1.5.0",
            "_model_name": "HTMLModel",
            "_view_count": null,
            "_view_module": "@jupyter-widgets/controls",
            "_view_module_version": "1.5.0",
            "_view_name": "HTMLView",
            "description": "",
            "description_tooltip": null,
            "layout": "IPY_MODEL_e1d825c9afc540f3b6772b38418c402e",
            "placeholder": "​",
            "style": "IPY_MODEL_7afe97bf59664afa8ec5997661ee6763",
            "value": "Dl Completed...: 100%"
          }
        },
        "c32e427cbeb94faca31e7645b7eb9c5a": {
          "model_module": "@jupyter-widgets/controls",
          "model_name": "FloatProgressModel",
          "model_module_version": "1.5.0",
          "state": {
            "_dom_classes": [],
            "_model_module": "@jupyter-widgets/controls",
            "_model_module_version": "1.5.0",
            "_model_name": "FloatProgressModel",
            "_view_count": null,
            "_view_module": "@jupyter-widgets/controls",
            "_view_module_version": "1.5.0",
            "_view_name": "ProgressView",
            "bar_style": "success",
            "description": "",
            "description_tooltip": null,
            "layout": "IPY_MODEL_b5489501daaa48fca417bdbfd8c31dbf",
            "max": 5,
            "min": 0,
            "orientation": "horizontal",
            "style": "IPY_MODEL_6eaa9d8f48704b82b6a24af4eb9b2c92",
            "value": 5
          }
        },
        "d3b33ed3dfc543d29019d183bc892b08": {
          "model_module": "@jupyter-widgets/controls",
          "model_name": "HTMLModel",
          "model_module_version": "1.5.0",
          "state": {
            "_dom_classes": [],
            "_model_module": "@jupyter-widgets/controls",
            "_model_module_version": "1.5.0",
            "_model_name": "HTMLModel",
            "_view_count": null,
            "_view_module": "@jupyter-widgets/controls",
            "_view_module_version": "1.5.0",
            "_view_name": "HTMLView",
            "description": "",
            "description_tooltip": null,
            "layout": "IPY_MODEL_0561a77b4e0949de9e54a6bd6e65a660",
            "placeholder": "​",
            "style": "IPY_MODEL_9f46105297e642cba9e2d929d46f69c7",
            "value": " 5/5 [00:00&lt;00:00, 11.40 file/s]"
          }
        },
        "d0554d36576a4879854157456671a4b2": {
          "model_module": "@jupyter-widgets/base",
          "model_name": "LayoutModel",
          "model_module_version": "1.2.0",
          "state": {
            "_model_module": "@jupyter-widgets/base",
            "_model_module_version": "1.2.0",
            "_model_name": "LayoutModel",
            "_view_count": null,
            "_view_module": "@jupyter-widgets/base",
            "_view_module_version": "1.2.0",
            "_view_name": "LayoutView",
            "align_content": null,
            "align_items": null,
            "align_self": null,
            "border": null,
            "bottom": null,
            "display": null,
            "flex": null,
            "flex_flow": null,
            "grid_area": null,
            "grid_auto_columns": null,
            "grid_auto_flow": null,
            "grid_auto_rows": null,
            "grid_column": null,
            "grid_gap": null,
            "grid_row": null,
            "grid_template_areas": null,
            "grid_template_columns": null,
            "grid_template_rows": null,
            "height": null,
            "justify_content": null,
            "justify_items": null,
            "left": null,
            "margin": null,
            "max_height": null,
            "max_width": null,
            "min_height": null,
            "min_width": null,
            "object_fit": null,
            "object_position": null,
            "order": null,
            "overflow": null,
            "overflow_x": null,
            "overflow_y": null,
            "padding": null,
            "right": null,
            "top": null,
            "visibility": null,
            "width": null
          }
        },
        "e1d825c9afc540f3b6772b38418c402e": {
          "model_module": "@jupyter-widgets/base",
          "model_name": "LayoutModel",
          "model_module_version": "1.2.0",
          "state": {
            "_model_module": "@jupyter-widgets/base",
            "_model_module_version": "1.2.0",
            "_model_name": "LayoutModel",
            "_view_count": null,
            "_view_module": "@jupyter-widgets/base",
            "_view_module_version": "1.2.0",
            "_view_name": "LayoutView",
            "align_content": null,
            "align_items": null,
            "align_self": null,
            "border": null,
            "bottom": null,
            "display": null,
            "flex": null,
            "flex_flow": null,
            "grid_area": null,
            "grid_auto_columns": null,
            "grid_auto_flow": null,
            "grid_auto_rows": null,
            "grid_column": null,
            "grid_gap": null,
            "grid_row": null,
            "grid_template_areas": null,
            "grid_template_columns": null,
            "grid_template_rows": null,
            "height": null,
            "justify_content": null,
            "justify_items": null,
            "left": null,
            "margin": null,
            "max_height": null,
            "max_width": null,
            "min_height": null,
            "min_width": null,
            "object_fit": null,
            "object_position": null,
            "order": null,
            "overflow": null,
            "overflow_x": null,
            "overflow_y": null,
            "padding": null,
            "right": null,
            "top": null,
            "visibility": null,
            "width": null
          }
        },
        "7afe97bf59664afa8ec5997661ee6763": {
          "model_module": "@jupyter-widgets/controls",
          "model_name": "DescriptionStyleModel",
          "model_module_version": "1.5.0",
          "state": {
            "_model_module": "@jupyter-widgets/controls",
            "_model_module_version": "1.5.0",
            "_model_name": "DescriptionStyleModel",
            "_view_count": null,
            "_view_module": "@jupyter-widgets/base",
            "_view_module_version": "1.2.0",
            "_view_name": "StyleView",
            "description_width": ""
          }
        },
        "b5489501daaa48fca417bdbfd8c31dbf": {
          "model_module": "@jupyter-widgets/base",
          "model_name": "LayoutModel",
          "model_module_version": "1.2.0",
          "state": {
            "_model_module": "@jupyter-widgets/base",
            "_model_module_version": "1.2.0",
            "_model_name": "LayoutModel",
            "_view_count": null,
            "_view_module": "@jupyter-widgets/base",
            "_view_module_version": "1.2.0",
            "_view_name": "LayoutView",
            "align_content": null,
            "align_items": null,
            "align_self": null,
            "border": null,
            "bottom": null,
            "display": null,
            "flex": null,
            "flex_flow": null,
            "grid_area": null,
            "grid_auto_columns": null,
            "grid_auto_flow": null,
            "grid_auto_rows": null,
            "grid_column": null,
            "grid_gap": null,
            "grid_row": null,
            "grid_template_areas": null,
            "grid_template_columns": null,
            "grid_template_rows": null,
            "height": null,
            "justify_content": null,
            "justify_items": null,
            "left": null,
            "margin": null,
            "max_height": null,
            "max_width": null,
            "min_height": null,
            "min_width": null,
            "object_fit": null,
            "object_position": null,
            "order": null,
            "overflow": null,
            "overflow_x": null,
            "overflow_y": null,
            "padding": null,
            "right": null,
            "top": null,
            "visibility": null,
            "width": null
          }
        },
        "6eaa9d8f48704b82b6a24af4eb9b2c92": {
          "model_module": "@jupyter-widgets/controls",
          "model_name": "ProgressStyleModel",
          "model_module_version": "1.5.0",
          "state": {
            "_model_module": "@jupyter-widgets/controls",
            "_model_module_version": "1.5.0",
            "_model_name": "ProgressStyleModel",
            "_view_count": null,
            "_view_module": "@jupyter-widgets/base",
            "_view_module_version": "1.2.0",
            "_view_name": "StyleView",
            "bar_color": null,
            "description_width": ""
          }
        },
        "0561a77b4e0949de9e54a6bd6e65a660": {
          "model_module": "@jupyter-widgets/base",
          "model_name": "LayoutModel",
          "model_module_version": "1.2.0",
          "state": {
            "_model_module": "@jupyter-widgets/base",
            "_model_module_version": "1.2.0",
            "_model_name": "LayoutModel",
            "_view_count": null,
            "_view_module": "@jupyter-widgets/base",
            "_view_module_version": "1.2.0",
            "_view_name": "LayoutView",
            "align_content": null,
            "align_items": null,
            "align_self": null,
            "border": null,
            "bottom": null,
            "display": null,
            "flex": null,
            "flex_flow": null,
            "grid_area": null,
            "grid_auto_columns": null,
            "grid_auto_flow": null,
            "grid_auto_rows": null,
            "grid_column": null,
            "grid_gap": null,
            "grid_row": null,
            "grid_template_areas": null,
            "grid_template_columns": null,
            "grid_template_rows": null,
            "height": null,
            "justify_content": null,
            "justify_items": null,
            "left": null,
            "margin": null,
            "max_height": null,
            "max_width": null,
            "min_height": null,
            "min_width": null,
            "object_fit": null,
            "object_position": null,
            "order": null,
            "overflow": null,
            "overflow_x": null,
            "overflow_y": null,
            "padding": null,
            "right": null,
            "top": null,
            "visibility": null,
            "width": null
          }
        },
        "9f46105297e642cba9e2d929d46f69c7": {
          "model_module": "@jupyter-widgets/controls",
          "model_name": "DescriptionStyleModel",
          "model_module_version": "1.5.0",
          "state": {
            "_model_module": "@jupyter-widgets/controls",
            "_model_module_version": "1.5.0",
            "_model_name": "DescriptionStyleModel",
            "_view_count": null,
            "_view_module": "@jupyter-widgets/base",
            "_view_module_version": "1.2.0",
            "_view_name": "StyleView",
            "description_width": ""
          }
        }
      }
    }
  },
  "cells": [
    {
      "cell_type": "markdown",
      "metadata": {
        "id": "view-in-github",
        "colab_type": "text"
      },
      "source": [
        "<a href=\"https://colab.research.google.com/github/SushmitaSingh96/MNIST_dataset_using_CNN/blob/main/MNIST_using_CNN.ipynb\" target=\"_parent\"><img src=\"https://colab.research.google.com/assets/colab-badge.svg\" alt=\"Open In Colab\"/></a>"
      ]
    },
    {
      "cell_type": "code",
      "execution_count": 1,
      "metadata": {
        "id": "T_KPnWnOr2K3"
      },
      "outputs": [],
      "source": [
        "import tensorflow as tf\n",
        "import tensorflow_datasets as tfds\n",
        "import numpy as np\n",
        "import matplotlib.pyplot as plt \n",
        "import seaborn as sns\n",
        "import pandas as pd"
      ]
    },
    {
      "cell_type": "code",
      "source": [
        "train_data, val_data, test_data = tfds.load(\"mnist\",  \n",
        "                                            split=['train[20%:]', 'train[0%:20%]', 'test'],\n",
        "                                            as_supervised=True)\n"
      ],
      "metadata": {
        "colab": {
          "base_uri": "https://localhost:8080/",
          "height": 83,
          "referenced_widgets": [
            "95698f7878014239a8db962557fc0a53",
            "87acb336f96b46028bccfd3694445bc2",
            "c32e427cbeb94faca31e7645b7eb9c5a",
            "d3b33ed3dfc543d29019d183bc892b08",
            "d0554d36576a4879854157456671a4b2",
            "e1d825c9afc540f3b6772b38418c402e",
            "7afe97bf59664afa8ec5997661ee6763",
            "b5489501daaa48fca417bdbfd8c31dbf",
            "6eaa9d8f48704b82b6a24af4eb9b2c92",
            "0561a77b4e0949de9e54a6bd6e65a660",
            "9f46105297e642cba9e2d929d46f69c7"
          ]
        },
        "id": "WztALbizr8Sc",
        "outputId": "c3df33e1-62b8-4778-979e-329d62c36627"
      },
      "execution_count": 2,
      "outputs": [
        {
          "output_type": "stream",
          "name": "stdout",
          "text": [
            "Downloading and preparing dataset 11.06 MiB (download: 11.06 MiB, generated: 21.00 MiB, total: 32.06 MiB) to ~/tensorflow_datasets/mnist/3.0.1...\n"
          ]
        },
        {
          "output_type": "display_data",
          "data": {
            "text/plain": [
              "Dl Completed...:   0%|          | 0/5 [00:00<?, ? file/s]"
            ],
            "application/vnd.jupyter.widget-view+json": {
              "version_major": 2,
              "version_minor": 0,
              "model_id": "95698f7878014239a8db962557fc0a53"
            }
          },
          "metadata": {}
        },
        {
          "output_type": "stream",
          "name": "stdout",
          "text": [
            "Dataset mnist downloaded and prepared to ~/tensorflow_datasets/mnist/3.0.1. Subsequent calls will reuse this data.\n"
          ]
        }
      ]
    },
    {
      "cell_type": "code",
      "source": [
        "def helper(ds):\n",
        "  x, y = [], []\n",
        "  for x_, y_ in tfds.as_numpy(ds):\n",
        "    x.append(x_)\n",
        "    y.append(y_)\n",
        "  return np.asarray(x), np.asarray(y)\n",
        "\n",
        "train_images, train_labels = helper(train_data)\n",
        "val_images, val_labels = helper(val_data)\n",
        "test_images, test_labels = helper(test_data)"
      ],
      "metadata": {
        "id": "GNpNCxSsr_zJ"
      },
      "execution_count": 3,
      "outputs": []
    },
    {
      "cell_type": "code",
      "source": [
        "print(train_images.shape)\n",
        "print(train_labels.shape)\n",
        "print(val_images.shape)\n",
        "print(val_labels.shape)"
      ],
      "metadata": {
        "colab": {
          "base_uri": "https://localhost:8080/"
        },
        "id": "TgXbigXJsBMI",
        "outputId": "2ab76675-53a8-43c5-94c0-be8d20283954"
      },
      "execution_count": 4,
      "outputs": [
        {
          "output_type": "stream",
          "name": "stdout",
          "text": [
            "(48000, 28, 28, 1)\n",
            "(48000,)\n",
            "(12000, 28, 28, 1)\n",
            "(12000,)\n"
          ]
        }
      ]
    },
    {
      "cell_type": "code",
      "source": [
        "# pick a sample to plot\n",
        "sample = 10\n",
        "image = train_images[sample]\n",
        "#If you are dealing with grayscale images, you should remove the channel dimension for matplotlib:\n",
        "if image.shape[2] == 1:\n",
        "    image = image[:, :, 0]\n",
        "# plot the sample\n",
        "fig = plt.figure\n",
        "plt.imshow(image, cmap='gray')\n",
        "plt.title(\"Label: {}\".format(train_labels[sample]))\n",
        "plt.show()\n",
        "#plt.savefig('randomSample.jpg')"
      ],
      "metadata": {
        "colab": {
          "base_uri": "https://localhost:8080/",
          "height": 281
        },
        "id": "thFJQ11xsDUv",
        "outputId": "ba800b26-23dd-40b4-a5fe-d69599401ed7"
      },
      "execution_count": 5,
      "outputs": [
        {
          "output_type": "display_data",
          "data": {
            "text/plain": [
              "<Figure size 432x288 with 1 Axes>"
            ],
            "image/png": "[encoded data removed]"
          },
          "metadata": {
            "needs_background": "light"
          }
        }
      ]
    },
    {
      "cell_type": "markdown",
      "source": [
        "Building the model"
      ],
      "metadata": {
        "id": "a9FYZS64sKaR"
      }
    },
    {
      "cell_type": "code",
      "source": [
        "from keras.layers import Conv2D, Input, MaxPooling2D, Dense, Flatten, Dropout\n",
        "from tensorflow.keras.models import Sequential\n",
        "\n",
        "model = tf.keras.Sequential()"
      ],
      "metadata": {
        "id": "y0VWD3V_sGx3"
      },
      "execution_count": 6,
      "outputs": []
    },
    {
      "cell_type": "code",
      "source": [
        "model_test = tf.keras.Sequential()\n",
        "model_test.add(Conv2D(8, kernel_size=(3,3), activation='relu', input_shape=(28,28,1), padding=\"same\"))\n",
        "model_test.add(MaxPooling2D(pool_size=(2, 2),padding=\"valid\"))\n",
        "model_test.add(Conv2D(16, kernel_size=(3,3), activation='relu', padding=\"same\"))\n",
        "model_test.add(MaxPooling2D(pool_size=(2, 2),padding=\"valid\"))\n",
        "model_test.add(Conv2D(32, (2,2), activation='relu',padding=\"same\"))\n",
        "\n",
        "model_test.add(Flatten())\n",
        "\n",
        "model_test.add(Dense(128, activation='relu'))\n",
        "model_test.add(Dropout(0.2))\n",
        "model_test.add(Dense(10, activation='softmax'))"
      ],
      "metadata": {
        "id": "5ybm-UKssMaj"
      },
      "execution_count": 7,
      "outputs": []
    },
    {
      "cell_type": "code",
      "source": [
        "model_test.compile('adam', loss=tf.losses.SparseCategoricalCrossentropy(), metrics=['accuracy'])"
      ],
      "metadata": {
        "id": "drAI7BDtsP2R"
      },
      "execution_count": 8,
      "outputs": []
    },
    {
      "cell_type": "code",
      "source": [
        "model_test.summary()"
      ],
      "metadata": {
        "colab": {
          "base_uri": "https://localhost:8080/"
        },
        "id": "5ImIoXp9sSGL",
        "outputId": "79b17063-5a91-46ed-b925-27ac96d4d0bd"
      },
      "execution_count": 9,
      "outputs": [
        {
          "output_type": "stream",
          "name": "stdout",
          "text": [
            "Model: \"sequential_1\"\n",
            "_________________________________________________________________\n",
            " Layer (type)                Output Shape              Param #   \n",
            "=================================================================\n",
            " conv2d (Conv2D)             (None, 28, 28, 8)         80        \n",
            "                                                                 \n",
            " max_pooling2d (MaxPooling2D  (None, 14, 14, 8)        0         \n",
            " )                                                               \n",
            "                                                                 \n",
            " conv2d_1 (Conv2D)           (None, 14, 14, 16)        1168      \n",
            "                                                                 \n",
            " max_pooling2d_1 (MaxPooling  (None, 7, 7, 16)         0         \n",
            " 2D)                                                             \n",
            "                                                                 \n",
            " conv2d_2 (Conv2D)           (None, 7, 7, 32)          2080      \n",
            "                                                                 \n",
            " flatten (Flatten)           (None, 1568)              0         \n",
            "                                                                 \n",
            " dense (Dense)               (None, 128)               200832    \n",
            "                                                                 \n",
            " dropout (Dropout)           (None, 128)               0         \n",
            "                                                                 \n",
            " dense_1 (Dense)             (None, 10)                1290      \n",
            "                                                                 \n",
            "=================================================================\n",
            "Total params: 205,450\n",
            "Trainable params: 205,450\n",
            "Non-trainable params: 0\n",
            "_________________________________________________________________\n"
          ]
        }
      ]
    },
    {
      "cell_type": "code",
      "source": [
        "history_test = model_test.fit(train_images, train_labels, validation_data=[val_images, val_labels], epochs=10)"
      ],
      "metadata": {
        "colab": {
          "base_uri": "https://localhost:8080/"
        },
        "id": "LqG7aIUBsUAF",
        "outputId": "d9f423ee-abdf-44de-94ae-48b7f6491163"
      },
      "execution_count": 10,
      "outputs": [
        {
          "output_type": "stream",
          "name": "stdout",
          "text": [
            "Epoch 1/10\n",
            "1500/1500 [==============================] - 40s 25ms/step - loss: 0.4452 - accuracy: 0.9187 - val_loss: 0.1065 - val_accuracy: 0.9694\n",
            "Epoch 2/10\n",
            "1500/1500 [==============================] - 37s 25ms/step - loss: 0.1001 - accuracy: 0.9704 - val_loss: 0.0887 - val_accuracy: 0.9757\n",
            "Epoch 3/10\n",
            "1500/1500 [==============================] - 38s 25ms/step - loss: 0.0715 - accuracy: 0.9786 - val_loss: 0.0810 - val_accuracy: 0.9791\n",
            "Epoch 4/10\n",
            "1500/1500 [==============================] - 37s 25ms/step - loss: 0.0620 - accuracy: 0.9808 - val_loss: 0.0634 - val_accuracy: 0.9814\n",
            "Epoch 5/10\n",
            "1500/1500 [==============================] - 37s 25ms/step - loss: 0.0484 - accuracy: 0.9845 - val_loss: 0.0649 - val_accuracy: 0.9830\n",
            "Epoch 6/10\n",
            "1500/1500 [==============================] - 36s 24ms/step - loss: 0.0466 - accuracy: 0.9856 - val_loss: 0.0827 - val_accuracy: 0.9787\n",
            "Epoch 7/10\n",
            "1500/1500 [==============================] - 37s 25ms/step - loss: 0.0427 - accuracy: 0.9866 - val_loss: 0.0554 - val_accuracy: 0.9849\n",
            "Epoch 8/10\n",
            "1500/1500 [==============================] - 38s 25ms/step - loss: 0.0382 - accuracy: 0.9878 - val_loss: 0.0796 - val_accuracy: 0.9783\n",
            "Epoch 9/10\n",
            "1500/1500 [==============================] - 37s 25ms/step - loss: 0.0338 - accuracy: 0.9892 - val_loss: 0.0659 - val_accuracy: 0.9852\n",
            "Epoch 10/10\n",
            "1500/1500 [==============================] - 37s 25ms/step - loss: 0.0310 - accuracy: 0.9907 - val_loss: 0.0778 - val_accuracy: 0.9848\n"
          ]
        }
      ]
    },
    {
      "cell_type": "code",
      "source": [
        "plt.plot(history_test.history['loss'], label=\"training\")\n",
        "#plt.plot(history_test.history['val_loss'], label=\"validation\")\n",
        "plt.legend()\n",
        "plt.ylabel(\"loss\")\n",
        "plt.xlabel(\"epochs\")"
      ],
      "metadata": {
        "colab": {
          "base_uri": "https://localhost:8080/",
          "height": 296
        },
        "id": "Wc7WpPRZsYIZ",
        "outputId": "273d6db1-a91c-4357-86f8-eb2a61a4a3fa"
      },
      "execution_count": 11,
      "outputs": [
        {
          "output_type": "execute_result",
          "data": {
            "text/plain": [
              "Text(0.5, 0, 'epochs')"
            ]
          },
          "metadata": {},
          "execution_count": 11
        },
        {
          "output_type": "display_data",
          "data": {
            "text/plain": [
              "<Figure size 432x288 with 1 Axes>"
            ],
            "image/png": "[encoded data removed]"
          },
          "metadata": {
            "needs_background": "light"
          }
        }
      ]
    },
    {
      "cell_type": "code",
      "source": [
        "model_test.evaluate(test_images, test_labels)"
      ],
      "metadata": {
        "colab": {
          "base_uri": "https://localhost:8080/"
        },
        "id": "yhWkvrNzseAj",
        "outputId": "4cb040dc-f78a-4e31-f08a-85e73ad2a8b4"
      },
      "execution_count": 12,
      "outputs": [
        {
          "output_type": "stream",
          "name": "stdout",
          "text": [
            "313/313 [==============================] - 5s 16ms/step - loss: 0.0745 - accuracy: 0.9835\n"
          ]
        },
        {
          "output_type": "execute_result",
          "data": {
            "text/plain": [
              "[0.07448329776525497, 0.9835000038146973]"
            ]
          },
          "metadata": {},
          "execution_count": 12
        }
      ]
    },
    {
      "cell_type": "code",
      "source": [],
      "metadata": {
        "id": "zLnQMWvAt0rF"
      },
      "execution_count": null,
      "outputs": []
    }
  ]
}